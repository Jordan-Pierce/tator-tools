{
 "cells": [
  {
   "cell_type": "code",
   "execution_count": 1,
   "metadata": {},
   "outputs": [],
   "source": [
    "\n",
    "import os\n",
    "import shutil\n",
    "import argparse\n",
    "import traceback\n",
    "from tqdm import tqdm\n",
    "from typing import List, Dict, Tuple, Optional\n",
    "\n",
    "from concurrent.futures import ThreadPoolExecutor, as_completed\n",
    "\n",
    "import fiftyone as fo\n",
    "\n",
    "from tator_tools.download_datasets import DatasetDownloader\n",
    "from tator_tools.fiftyone_clustering import FiftyOneDatasetViewer\n",
    "\n",
    "import tator\n",
    "\n",
    "import cv2\n",
    "import numpy as np\n",
    "import pandas as pd\n",
    "\n",
    "import torch\n",
    "from ultralytics import YOLO\n",
    "from ultralytics import RTDETR"
   ]
  },
  {
   "cell_type": "markdown",
   "metadata": {},
   "source": [
    "# Custom DataDownloader (for getting select frames from media)"
   ]
  },
  {
   "cell_type": "code",
   "execution_count": 2,
   "metadata": {},
   "outputs": [],
   "source": [
    "class DataDownloader:\n",
    "    def __init__(self, api_token: str, project_id: int, media_ids: List[int], \n",
    "                 frame_ids_dict: Dict[int, List[int]], output_dir: str, \n",
    "                 max_workers: int = 10, max_retries: int = 10):\n",
    "        \"\"\"\n",
    "        Initialize the DataDownloader with multiple media IDs and their corresponding frames.\n",
    "\n",
    "        :param api_token: Tator API token for authentication\n",
    "        :param project_id: Project ID in Tator\n",
    "        :param media_ids: List of media IDs to process\n",
    "        :param frame_ids_dict: Dictionary mapping media IDs to their frame IDs to download\n",
    "        :param output_dir: Output directory for downloaded frames\n",
    "        :param max_workers: Maximum number of concurrent download threads\n",
    "        :param max_retries: Maximum number of retries for failed downloads\n",
    "        \"\"\"\n",
    "        self.project_id = project_id\n",
    "        self.media_ids = media_ids\n",
    "        self.frames_dict = frame_ids_dict\n",
    "        self.output_dir = output_dir\n",
    "        self.max_workers = max_workers\n",
    "        self.max_retries = max_retries\n",
    "        \n",
    "        # Create a single API instance for all operations\n",
    "        self.api = self._authenticate(api_token)\n",
    "        \n",
    "        # Set up directories\n",
    "        self._setup_directories()\n",
    "        \n",
    "        # Cache for media objects\n",
    "        self.media_cache = {}\n",
    "        \n",
    "        # Output data\n",
    "        self.output_data = None\n",
    "\n",
    "    @staticmethod\n",
    "    def _authenticate(api_token: str):\n",
    "        \"\"\"\n",
    "        Authenticate with the Tator API.\n",
    "\n",
    "        :param api_token: API token for authentication\n",
    "        :return: Authenticated API instance\n",
    "        \"\"\"\n",
    "        try:\n",
    "            api = tator.get_api(host='https://cloud.tator.io', token=api_token)\n",
    "            return api\n",
    "        except Exception as e:\n",
    "            raise Exception(f\"ERROR: Could not authenticate with provided API Token\\n{e}\")\n",
    "\n",
    "    def _setup_directories(self):\n",
    "        \"\"\"\n",
    "        Create necessary directories for frame storage.\n",
    "        \"\"\"\n",
    "        os.makedirs(f\"{self.output_dir}/frames\", exist_ok=True)\n",
    "\n",
    "    def _get_media(self, media_id: int):\n",
    "        \"\"\"\n",
    "        Get media object with caching to avoid redundant API calls.\n",
    "        \n",
    "        :param media_id: Media ID to retrieve\n",
    "        :return: Media object\n",
    "        \"\"\"\n",
    "        if media_id not in self.media_cache:\n",
    "            self.media_cache[media_id] = self.api.get_media(id=int(media_id))\n",
    "        return self.media_cache[media_id]\n",
    "\n",
    "    def download_frame(self, params: tuple) -> Tuple[int, int, Optional[str]]:\n",
    "        \"\"\"\n",
    "        Download a single frame for a given media with retry logic.\n",
    "\n",
    "        :param params: Tuple containing (media_id, frame_id)\n",
    "        :return: Tuple of (media_id, frame_id, frame_path or None if failed)\n",
    "        \"\"\"\n",
    "        media_id, frame_id = params\n",
    "        media = self._get_media(media_id)\n",
    "        \n",
    "        # Use absolute path for frame_path\n",
    "        frame_path = os.path.abspath(f\"{self.output_dir}/frames/{str(media_id)}_{str(frame_id)}.jpg\")\n",
    "        \n",
    "        # Use absolute path for lock_path\n",
    "        lock_path = f\"{frame_path}.lock\"\n",
    "        \n",
    "        # Rest of the method remains the same as before\n",
    "        if os.path.exists(frame_path):\n",
    "            return media_id, frame_id, frame_path\n",
    "            \n",
    "        if os.path.exists(lock_path):\n",
    "            if os.path.getmtime(lock_path) < time.time() - 300:\n",
    "                try:\n",
    "                    os.remove(lock_path)\n",
    "                except:\n",
    "                    pass\n",
    "            else:\n",
    "                for _ in range(60):\n",
    "                    time.sleep(1)\n",
    "                    if os.path.exists(frame_path):\n",
    "                        return media_id, frame_id, frame_path\n",
    "                    if not os.path.exists(lock_path):\n",
    "                        break\n",
    "                \n",
    "        try:\n",
    "            with open(lock_path, 'w') as f:\n",
    "                f.write(str(os.getpid()))\n",
    "        except:\n",
    "            time.sleep(1)\n",
    "            if os.path.exists(frame_path):\n",
    "                return media_id, frame_id, frame_path\n",
    "        \n",
    "        for attempt in range(self.max_retries):\n",
    "            try:\n",
    "                temp = self.api.get_frame(\n",
    "                    id=media.id,\n",
    "                    tile=f\"{media.width}x{media.height}\",\n",
    "                    force_scale=\"1024x768\",  # TODO remove hardcoding\n",
    "                    frames=[int(frame_id)]\n",
    "                )\n",
    "                shutil.move(temp, frame_path)\n",
    "                \n",
    "                try:\n",
    "                    os.remove(lock_path)\n",
    "                except:\n",
    "                    pass\n",
    "                    \n",
    "                return media_id, frame_id, frame_path\n",
    "                \n",
    "            except Exception as e:\n",
    "                error_msg = f\"Error downloading frame {frame_id} for media {media_id}: {e}\"\n",
    "                if attempt < self.max_retries - 1:\n",
    "                    print(f\"{error_msg}, retrying...\")\n",
    "                    time.sleep(2 ** attempt)\n",
    "                else:\n",
    "                    print(f\"{error_msg}, giving up.\")\n",
    "        \n",
    "        try:\n",
    "            os.remove(lock_path)\n",
    "        except:\n",
    "            pass\n",
    "            \n",
    "        return media_id, frame_id, None\n",
    "\n",
    "    def download_data(self) -> Dict[int, List[str]]:\n",
    "        \"\"\"\n",
    "        Download frames for all media IDs using a single thread pool.\n",
    "\n",
    "        :return: Dictionary mapping media IDs to lists of frame paths\n",
    "        \"\"\"\n",
    "        # Prepare all download tasks\n",
    "        all_tasks = []\n",
    "        for media_id in self.media_ids:\n",
    "            frames = self.frames_dict[media_id]\n",
    "            for frame_id in frames:\n",
    "                all_tasks.append((media_id, frame_id))\n",
    "        \n",
    "        results_dict = {media_id: [] for media_id in self.media_ids}\n",
    "        \n",
    "        # Use a single thread pool for all downloads\n",
    "        with ThreadPoolExecutor(max_workers=self.max_workers) as executor:\n",
    "            futures = {\n",
    "                executor.submit(self.download_frame, task): task \n",
    "                for task in all_tasks\n",
    "            }\n",
    "            \n",
    "            with tqdm(total=len(all_tasks), desc=\"Downloading frames\") as pbar:\n",
    "                for future in as_completed(futures):\n",
    "                    media_id, frame_id, frame_path = future.result()\n",
    "                    if frame_path:  # If download was successful\n",
    "                        results_dict[media_id].append(frame_path)\n",
    "                    pbar.update(1)\n",
    "        \n",
    "        self.output_data = results_dict\n"
   ]
  },
  {
   "cell_type": "code",
   "execution_count": 3,
   "metadata": {},
   "outputs": [],
   "source": [
    "api_token = os.getenv(\"TATOR_TOKEN\")\n",
    "project_id = 155\n",
    "\n",
    "output_dir=\"../Data/NCICS/Madeline_Data/\""
   ]
  },
  {
   "cell_type": "markdown",
   "metadata": {},
   "source": [
    "# Read in CSV file"
   ]
  },
  {
   "cell_type": "code",
   "execution_count": 21,
   "metadata": {},
   "outputs": [],
   "source": [
    "# Read and preprocess the data\n",
    "df = pd.read_csv(\"../Data/NCICS/MadelineIs_All_Annotations_20241113.csv\")\n",
    "\n",
    "# Only drop rows where TatorMediaID OR TatorFrame have NA values\n",
    "df = df.dropna(subset=['TatorMediaID', 'TatorFrame'])\n",
    "\n",
    "# Convert the columns to integers after removing NA values\n",
    "df['TatorMediaID'] = df['TatorMediaID'].astype(int)\n",
    "df['TatorFrame'] = df['TatorFrame'].astype(int)\n",
    "\n",
    "# Create dictionary mapping media IDs to their frame lists\n",
    "media_ids = df['TatorMediaID'].unique().tolist()\n",
    "frame_ids_dict = {media_id: df[df['TatorMediaID'] == media_id]['TatorFrame'].tolist() for media_id in media_ids}"
   ]
  },
  {
   "cell_type": "markdown",
   "metadata": {},
   "source": [
    "# Download frames from CSV"
   ]
  },
  {
   "cell_type": "code",
   "execution_count": null,
   "metadata": {},
   "outputs": [],
   "source": [
    "# Initialize downloader with multiple media IDs\n",
    "downloader = DataDownloader(\n",
    "    api_token=api_token,\n",
    "    project_id=project_id,\n",
    "    media_ids=media_ids,\n",
    "    frame_ids_dict=frame_ids_dict,\n",
    "    output_dir=output_dir,\n",
    "    max_workers=10,\n",
    "    max_retries=10,\n",
    ")\n",
    "\n",
    "# Download all frames for all media IDs\n",
    "downloader.download_data()"
   ]
  },
  {
   "cell_type": "code",
   "execution_count": 25,
   "metadata": {},
   "outputs": [],
   "source": [
    "frame_paths_dict = downloader.output_data"
   ]
  },
  {
   "cell_type": "code",
   "execution_count": 26,
   "metadata": {},
   "outputs": [],
   "source": [
    "# Create a new dataframe with the paths\n",
    "output_df = []\n",
    "for media_id, group in df.groupby('TatorMediaID'):\n",
    "    # Get the frame paths for this media ID\n",
    "    media_frame_paths = frame_paths_dict[media_id]\n",
    "    \n",
    "    # Create a mapping of frame number to path\n",
    "    frame_to_path = {\n",
    "        int(path.split('_')[-1].replace('.jpg', '')): path \n",
    "        for path in media_frame_paths\n",
    "    }\n",
    "    \n",
    "    # Add paths to the group\n",
    "    group = group.copy()\n",
    "    group['Image_Path'] = group['TatorFrame'].map(frame_to_path)\n",
    "    output_df.append(group)\n",
    "\n",
    "# Combine all groups back into a single dataframe\n",
    "final_df = pd.concat(output_df, ignore_index=True)"
   ]
  },
  {
   "cell_type": "code",
   "execution_count": null,
   "metadata": {},
   "outputs": [],
   "source": [
    "final_df[['TatorMediaID', 'TatorFrame', 'Image_Path', 'Sclass', 'Ssubclass', 'Sgroup']].head(3)"
   ]
  },
  {
   "cell_type": "code",
   "execution_count": 28,
   "metadata": {},
   "outputs": [],
   "source": [
    "# Create and output updated dataframe with the paths\n",
    "final_df.to_csv(\"../Data/NCICS/Madeline_Data/MadelineIs_Modified.csv\", index=False)"
   ]
  },
  {
   "cell_type": "markdown",
   "metadata": {},
   "source": [
    "# Download Unlabeled AUV Data"
   ]
  },
  {
   "cell_type": "code",
   "execution_count": 4,
   "metadata": {},
   "outputs": [],
   "source": [
    "# Search string comes from Tator's Data Metadata Export utility\n",
    "search_string = \"eyJtZXRob2QiOiJBTkQiLCJvcGVyYXRpb25zIjpbeyJhdHRyaWJ1dGUiOiJNaXNzaW9uTmFtZSIsIm9wZXJhdGlvbiI6Imljb250YWlucyIsImludmVyc2UiOmZhbHNlLCJ2YWx1ZSI6Ik1hZGVsaW5lIn0seyJtZXRob2QiOiJPUiIsIm9wZXJhdGlvbnMiOlt7ImF0dHJpYnV0ZSI6IiR0eXBlIiwib3BlcmF0aW9uIjoiZXEiLCJpbnZlcnNlIjpmYWxzZSwidmFsdWUiOjMzMX1dfV19\"\n",
    "\n",
    "# Demo for downloading labeled data\n",
    "frac = 0.01\n",
    "\n",
    "dataset_name = \"Unlabeled_AUV_Data\"\n",
    "output_dir = \"../Data/NCICS/\""
   ]
  },
  {
   "cell_type": "code",
   "execution_count": 5,
   "metadata": {},
   "outputs": [
    {
     "name": "stdout",
     "output_type": "stream",
     "text": [
      "NOTE: Authentication successful for jordan.pierce\n",
      "NOTE: Search string saved to e:\\tator-tools\\Data\\NCICS\\Unlabeled_AUV_Data\\search_string.txt\n"
     ]
    }
   ],
   "source": [
    "# Create a downloader for the labeled data\n",
    "downloader = DatasetDownloader(api_token,\n",
    "                               project_id=project_id,\n",
    "                               search_string=search_string,\n",
    "                               frac=frac,\n",
    "                               output_dir=output_dir,\n",
    "                               dataset_name=dataset_name,\n",
    "                               label_field=\"\",\n",
    "                               download_width=1024)"
   ]
  },
  {
   "cell_type": "code",
   "execution_count": 6,
   "metadata": {},
   "outputs": [
    {
     "name": "stdout",
     "output_type": "stream",
     "text": [
      "NOTE: Querying Tator for labeled data\n",
      "WARNING: No localization data found for search string; downloading media only\n",
      "NOTE: Found 27064 objects in query\n"
     ]
    },
    {
     "name": "stderr",
     "output_type": "stream",
     "text": [
      "Processing query: 100%|██████████| 27064/27064 [00:02<00:00, 12911.25it/s]\n"
     ]
    },
    {
     "name": "stdout",
     "output_type": "stream",
     "text": [
      "NOTE: Found 270 query objects after sampling\n",
      "NOTE: Data saved to e:\\tator-tools\\Data\\NCICS\\Unlabeled_AUV_Data\\data.csv\n",
      "NOTE: Data saved to e:\\tator-tools\\Data\\NCICS\\Unlabeled_AUV_Data\\data.json\n",
      "NOTE: Downloading images to e:\\tator-tools\\Data\\NCICS\\Unlabeled_AUV_Data\\images\n"
     ]
    },
    {
     "name": "stderr",
     "output_type": "stream",
     "text": [
      "Downloading images: 100%|██████████| 270/270 [01:29<00:00,  3.01it/s]"
     ]
    },
    {
     "name": "stdout",
     "output_type": "stream",
     "text": [
      "NOTE: Images downloaded to e:\\tator-tools\\Data\\NCICS\\Unlabeled_AUV_Data\\images\n"
     ]
    },
    {
     "name": "stderr",
     "output_type": "stream",
     "text": [
      "\n"
     ]
    }
   ],
   "source": [
    "# Download the labeled data\n",
    "downloader.download_data()"
   ]
  },
  {
   "cell_type": "code",
   "execution_count": 11,
   "metadata": {},
   "outputs": [],
   "source": [
    "df = downloader.as_dataframe()  # .as_dict()"
   ]
  },
  {
   "cell_type": "code",
   "execution_count": 12,
   "metadata": {},
   "outputs": [],
   "source": [
    "df.to_csv(\"../Data/NCICS/Unlabeled_AUV_Data/Unlabeled_AUV_Data.csv\", index=False)"
   ]
  },
  {
   "cell_type": "markdown",
   "metadata": {},
   "source": [
    "# Clustering"
   ]
  },
  {
   "cell_type": "code",
   "execution_count": 2,
   "metadata": {},
   "outputs": [
    {
     "data": {
      "text/html": [
       "<div>\n",
       "<style scoped>\n",
       "    .dataframe tbody tr th:only-of-type {\n",
       "        vertical-align: middle;\n",
       "    }\n",
       "\n",
       "    .dataframe tbody tr th {\n",
       "        vertical-align: top;\n",
       "    }\n",
       "\n",
       "    .dataframe thead th {\n",
       "        text-align: right;\n",
       "    }\n",
       "</style>\n",
       "<table border=\"1\" class=\"dataframe\">\n",
       "  <thead>\n",
       "    <tr style=\"text-align: right;\">\n",
       "      <th></th>\n",
       "      <th>Path</th>\n",
       "      <th>Sclass</th>\n",
       "      <th>Ssubclass</th>\n",
       "      <th>Sgroup</th>\n",
       "    </tr>\n",
       "  </thead>\n",
       "  <tbody>\n",
       "    <tr>\n",
       "      <th>0</th>\n",
       "      <td>e:\\tator-tools\\Data\\NCICS\\Madeline_Data\\frames...</td>\n",
       "      <td>Fine Unconsolidated Mineral Substrate</td>\n",
       "      <td>Sandy Substrate</td>\n",
       "      <td>Sand</td>\n",
       "    </tr>\n",
       "    <tr>\n",
       "      <th>1</th>\n",
       "      <td>e:\\tator-tools\\Data\\NCICS\\Madeline_Data\\frames...</td>\n",
       "      <td>Fine Unconsolidated Mineral Substrate</td>\n",
       "      <td>Sandy Substrate</td>\n",
       "      <td>Sand</td>\n",
       "    </tr>\n",
       "    <tr>\n",
       "      <th>2</th>\n",
       "      <td>e:\\tator-tools\\Data\\NCICS\\Madeline_Data\\frames...</td>\n",
       "      <td>Fine Unconsolidated Mineral Substrate</td>\n",
       "      <td>Sandy Substrate</td>\n",
       "      <td>Sand</td>\n",
       "    </tr>\n",
       "  </tbody>\n",
       "</table>\n",
       "</div>"
      ],
      "text/plain": [
       "                                                Path  \\\n",
       "0  e:\\tator-tools\\Data\\NCICS\\Madeline_Data\\frames...   \n",
       "1  e:\\tator-tools\\Data\\NCICS\\Madeline_Data\\frames...   \n",
       "2  e:\\tator-tools\\Data\\NCICS\\Madeline_Data\\frames...   \n",
       "\n",
       "                                  Sclass        Ssubclass Sgroup  \n",
       "0  Fine Unconsolidated Mineral Substrate  Sandy Substrate   Sand  \n",
       "1  Fine Unconsolidated Mineral Substrate  Sandy Substrate   Sand  \n",
       "2  Fine Unconsolidated Mineral Substrate  Sandy Substrate   Sand  "
      ]
     },
     "execution_count": 2,
     "metadata": {},
     "output_type": "execute_result"
    }
   ],
   "source": [
    "# Get the labeled data, subset\n",
    "labeled_df = pd.read_csv(\"../Data/NCICS/Madeline_Data/MadelineIs_Modified.csv\")\n",
    "labeled_df = labeled_df[['Path', 'Sclass', 'Ssubclass', 'Sgroup']]\n",
    "\n",
    "labeled_df.head(3)"
   ]
  },
  {
   "cell_type": "code",
   "execution_count": 3,
   "metadata": {},
   "outputs": [
    {
     "data": {
      "text/html": [
       "<div>\n",
       "<style scoped>\n",
       "    .dataframe tbody tr th:only-of-type {\n",
       "        vertical-align: middle;\n",
       "    }\n",
       "\n",
       "    .dataframe tbody tr th {\n",
       "        vertical-align: top;\n",
       "    }\n",
       "\n",
       "    .dataframe thead th {\n",
       "        text-align: right;\n",
       "    }\n",
       "</style>\n",
       "<table border=\"1\" class=\"dataframe\">\n",
       "  <thead>\n",
       "    <tr style=\"text-align: right;\">\n",
       "      <th></th>\n",
       "      <th>Path</th>\n",
       "      <th>Sclass</th>\n",
       "      <th>Ssubclass</th>\n",
       "    </tr>\n",
       "  </thead>\n",
       "  <tbody>\n",
       "    <tr>\n",
       "      <th>0</th>\n",
       "      <td>e:\\tator-tools\\Data\\NCICS\\Unlabeled_AUV_Data\\i...</td>\n",
       "      <td>Unknown</td>\n",
       "      <td>Unknown</td>\n",
       "    </tr>\n",
       "    <tr>\n",
       "      <th>1</th>\n",
       "      <td>e:\\tator-tools\\Data\\NCICS\\Unlabeled_AUV_Data\\i...</td>\n",
       "      <td>Unknown</td>\n",
       "      <td>Unknown</td>\n",
       "    </tr>\n",
       "    <tr>\n",
       "      <th>2</th>\n",
       "      <td>e:\\tator-tools\\Data\\NCICS\\Unlabeled_AUV_Data\\i...</td>\n",
       "      <td>Unknown</td>\n",
       "      <td>Unknown</td>\n",
       "    </tr>\n",
       "  </tbody>\n",
       "</table>\n",
       "</div>"
      ],
      "text/plain": [
       "                                                Path   Sclass Ssubclass\n",
       "0  e:\\tator-tools\\Data\\NCICS\\Unlabeled_AUV_Data\\i...  Unknown   Unknown\n",
       "1  e:\\tator-tools\\Data\\NCICS\\Unlabeled_AUV_Data\\i...  Unknown   Unknown\n",
       "2  e:\\tator-tools\\Data\\NCICS\\Unlabeled_AUV_Data\\i...  Unknown   Unknown"
      ]
     },
     "execution_count": 3,
     "metadata": {},
     "output_type": "execute_result"
    }
   ],
   "source": [
    "# Get the unlabeled data, subset, conform\n",
    "unlabeled_df = pd.read_csv(\"../Data/NCICS/Unlabeled_AUV_Data/Unlabeled_AUV_Data.csv\")\n",
    "unlabeled_df = unlabeled_df[['image_path']]\n",
    "unlabeled_df['Path'] = unlabeled_df['image_path']\n",
    "unlabeled_df['Sclass'] = \"Unknown\"\n",
    "unlabeled_df['Ssubclass'] = \"Unknown\"\n",
    "\n",
    "# Drop the image_path column\n",
    "unlabeled_df.drop(columns=['image_path'], inplace=True)\n",
    "\n",
    "unlabeled_df.head(3)"
   ]
  },
  {
   "cell_type": "code",
   "execution_count": 4,
   "metadata": {},
   "outputs": [
    {
     "data": {
      "text/html": [
       "<div>\n",
       "<style scoped>\n",
       "    .dataframe tbody tr th:only-of-type {\n",
       "        vertical-align: middle;\n",
       "    }\n",
       "\n",
       "    .dataframe tbody tr th {\n",
       "        vertical-align: top;\n",
       "    }\n",
       "\n",
       "    .dataframe thead th {\n",
       "        text-align: right;\n",
       "    }\n",
       "</style>\n",
       "<table border=\"1\" class=\"dataframe\">\n",
       "  <thead>\n",
       "    <tr style=\"text-align: right;\">\n",
       "      <th></th>\n",
       "      <th>Path</th>\n",
       "      <th>Sclass</th>\n",
       "      <th>Ssubclass</th>\n",
       "      <th>Sgroup</th>\n",
       "    </tr>\n",
       "  </thead>\n",
       "  <tbody>\n",
       "    <tr>\n",
       "      <th>0</th>\n",
       "      <td>e:\\tator-tools\\Data\\NCICS\\Madeline_Data\\frames...</td>\n",
       "      <td>Fine Unconsolidated Mineral Substrate</td>\n",
       "      <td>Sandy Substrate</td>\n",
       "      <td>Sand</td>\n",
       "    </tr>\n",
       "    <tr>\n",
       "      <th>1</th>\n",
       "      <td>e:\\tator-tools\\Data\\NCICS\\Madeline_Data\\frames...</td>\n",
       "      <td>Fine Unconsolidated Mineral Substrate</td>\n",
       "      <td>Sandy Substrate</td>\n",
       "      <td>Sand</td>\n",
       "    </tr>\n",
       "    <tr>\n",
       "      <th>2</th>\n",
       "      <td>e:\\tator-tools\\Data\\NCICS\\Madeline_Data\\frames...</td>\n",
       "      <td>Fine Unconsolidated Mineral Substrate</td>\n",
       "      <td>Sandy Substrate</td>\n",
       "      <td>Sand</td>\n",
       "    </tr>\n",
       "  </tbody>\n",
       "</table>\n",
       "</div>"
      ],
      "text/plain": [
       "                                                Path  \\\n",
       "0  e:\\tator-tools\\Data\\NCICS\\Madeline_Data\\frames...   \n",
       "1  e:\\tator-tools\\Data\\NCICS\\Madeline_Data\\frames...   \n",
       "2  e:\\tator-tools\\Data\\NCICS\\Madeline_Data\\frames...   \n",
       "\n",
       "                                  Sclass        Ssubclass Sgroup  \n",
       "0  Fine Unconsolidated Mineral Substrate  Sandy Substrate   Sand  \n",
       "1  Fine Unconsolidated Mineral Substrate  Sandy Substrate   Sand  \n",
       "2  Fine Unconsolidated Mineral Substrate  Sandy Substrate   Sand  "
      ]
     },
     "execution_count": 4,
     "metadata": {},
     "output_type": "execute_result"
    }
   ],
   "source": [
    "# Combine the labeled and unlabeled data\n",
    "combined_df = pd.concat([labeled_df, unlabeled_df], ignore_index=True)\n",
    "combined_df.head(3)"
   ]
  },
  {
   "cell_type": "code",
   "execution_count": 5,
   "metadata": {},
   "outputs": [
    {
     "name": "stdout",
     "output_type": "stream",
     "text": [
      "NOTE: Using device cuda\n",
      "\n",
      "0: 640x640 (no detections), 51.3ms\n",
      "Speed: 3.9ms preprocess, 51.3ms inference, 0.7ms postprocess per image at shape (1, 3, 640, 640)\n"
     ]
    }
   ],
   "source": [
    "# Calculate custom embeddings\n",
    "model_weights = \"E:\\\\tator-tools\\\\Data\\\\Runs\\\\2024-06-26_20-47-34_detect_yolov10m\\\\weights\\\\best.pt\"\n",
    "# Load the model\n",
    "model = YOLO(model_weights)\n",
    "# Get the image size\n",
    "imgsz = model.__dict__['overrides']['imgsz']\n",
    "\n",
    "# Get the device\n",
    "device ='cuda' if torch.cuda.is_available() else 'cpu'\n",
    "print(f\"NOTE: Using device {device}\")\n",
    "\n",
    "# Run a blank image through the model to load the weights\n",
    "_ = model(np.zeros((imgsz, imgsz, 3), dtype=np.uint8), device=device)   "
   ]
  },
  {
   "cell_type": "code",
   "execution_count": 6,
   "metadata": {},
   "outputs": [
    {
     "name": "stderr",
     "output_type": "stream",
     "text": [
      "Calculating embeddings: 100%|██████████| 1179/1179 [00:37<00:00, 31.63it/s]\n"
     ]
    },
    {
     "data": {
      "text/plain": [
       "(1179, 576)"
      ]
     },
     "execution_count": 6,
     "metadata": {},
     "output_type": "execute_result"
    }
   ],
   "source": [
    "embeddings_list = []\n",
    "\n",
    "# Use the length of combined_df as the total for tqdm\n",
    "total_items = len(combined_df)\n",
    "for path in tqdm(combined_df['Path'].tolist(), total=total_items, desc=\"Calculating embeddings\"):\n",
    "    embeddings = model.embed(path, imgsz=imgsz, stream=False, device=device, verbose=False)\n",
    "    embeddings_list.append(embeddings[0].cpu().numpy())\n",
    "    \n",
    "embeddings = np.array(embeddings_list)\n",
    "embeddings.shape"
   ]
  },
  {
   "cell_type": "code",
   "execution_count": 7,
   "metadata": {},
   "outputs": [],
   "source": [
    "# Clear cuda cache\n",
    "torch.cuda.empty_cache()"
   ]
  },
  {
   "cell_type": "code",
   "execution_count": 8,
   "metadata": {},
   "outputs": [],
   "source": [
    "# Initialize the viewer with the path to the directory containing images\n",
    "viewer = FiftyOneDatasetViewer(dataframe=combined_df,\n",
    "                               image_path_column='Path',\n",
    "                               feature_columns=['Sclass', 'Ssubclass'],\n",
    "                               nickname='MadelineIs',\n",
    "                               custom_embeddings=embeddings,  # Pass the embeddings, or None\n",
    "                               num_dims=3)                    # Number of dimensions for UMAP (2 or 3)"
   ]
  },
  {
   "cell_type": "code",
   "execution_count": 9,
   "metadata": {},
   "outputs": [
    {
     "name": "stdout",
     "output_type": "stream",
     "text": [
      "Overwriting existing dataset: MadelineIs\n"
     ]
    },
    {
     "name": "stderr",
     "output_type": "stream",
     "text": [
      "Processing images: 100%|██████████| 1179/1179 [00:36<00:00, 32.41it/s]\n"
     ]
    },
    {
     "name": "stdout",
     "output_type": "stream",
     "text": [
      " 100% |███████████████| 1179/1179 [742.4ms elapsed, 0s remaining, 1.6K samples/s]      \n",
      "Computing embeddings...\n",
      "Using provided custom embeddings\n",
      "Computing UMAP visualization...\n",
      "Generating visualization...\n"
     ]
    },
    {
     "name": "stderr",
     "output_type": "stream",
     "text": [
      "FutureWarning: 'force_all_finite' was renamed to 'ensure_all_finite' in 1.6 and will be removed in 1.8.\n",
      "UserWarning: n_jobs value 1 overridden to 1 by setting random_state. Use no seed for parallelism.\n"
     ]
    },
    {
     "name": "stdout",
     "output_type": "stream",
     "text": [
      "UMAP(n_components=3, n_jobs=1, random_state=51, verbose=True)\n",
      "Thu Mar  6 19:54:01 2025 Construct fuzzy simplicial set\n",
      "Thu Mar  6 19:54:03 2025 Finding Nearest Neighbors\n",
      "Thu Mar  6 19:54:11 2025 Finished Nearest Neighbor Search\n",
      "Thu Mar  6 19:54:14 2025 Construct embedding\n"
     ]
    },
    {
     "data": {
      "application/vnd.jupyter.widget-view+json": {
       "model_id": "fbfca40f0533434cace10c30c87063b8",
       "version_major": 2,
       "version_minor": 0
      },
      "text/plain": [
       "Epochs completed:   0%|            0/500 [00:00]"
      ]
     },
     "metadata": {},
     "output_type": "display_data"
    },
    {
     "name": "stdout",
     "output_type": "stream",
     "text": [
      "\tcompleted  0  /  500 epochs\n",
      "\tcompleted  50  /  500 epochs\n",
      "\tcompleted  100  /  500 epochs\n",
      "\tcompleted  150  /  500 epochs\n",
      "\tcompleted  200  /  500 epochs\n",
      "\tcompleted  250  /  500 epochs\n",
      "\tcompleted  300  /  500 epochs\n",
      "\tcompleted  350  /  500 epochs\n",
      "\tcompleted  400  /  500 epochs\n",
      "\tcompleted  450  /  500 epochs\n",
      "Thu Mar  6 19:54:17 2025 Finished embedding\n"
     ]
    }
   ],
   "source": [
    "# Process the dataset to create the FiftyOne dataset and generate the UMAP visualization\n",
    "viewer.process_dataset()"
   ]
  },
  {
   "cell_type": "code",
   "execution_count": 10,
   "metadata": {},
   "outputs": [
    {
     "name": "stdout",
     "output_type": "stream",
     "text": [
      "\n",
      "Could not connect session, trying again in 10 seconds\n",
      "\n"
     ]
    },
    {
     "data": {
      "text/html": [
       "\n",
       "        <iframe\n",
       "            width=\"100%\"\n",
       "            height=\"800\"\n",
       "            src=\"http://localhost:5151/?notebook=True&subscription=d46333d2-9b45-459a-943e-ffa7e199e341\"\n",
       "            frameborder=\"0\"\n",
       "            allowfullscreen\n",
       "            \n",
       "        ></iframe>\n",
       "        "
      ],
      "text/plain": [
       "<IPython.lib.display.IFrame at 0x1a4fb045ba0>"
      ]
     },
     "metadata": {},
     "output_type": "display_data"
    }
   ],
   "source": [
    "# Launch the FiftyOne app\n",
    "try:\n",
    "    session = fo.launch_app(viewer.dataset)\n",
    "except:\n",
    "    # Weird behavior in notebook\n",
    "    session = fo.launch_app(viewer.dataset)"
   ]
  },
  {
   "cell_type": "code",
   "execution_count": null,
   "metadata": {},
   "outputs": [],
   "source": []
  }
 ],
 "metadata": {
  "kernelspec": {
   "display_name": "tt",
   "language": "python",
   "name": "python3"
  },
  "language_info": {
   "codemirror_mode": {
    "name": "ipython",
    "version": 3
   },
   "file_extension": ".py",
   "mimetype": "text/x-python",
   "name": "python",
   "nbconvert_exporter": "python",
   "pygments_lexer": "ipython3",
   "version": "3.10.16"
  }
 },
 "nbformat": 4,
 "nbformat_minor": 2
}
